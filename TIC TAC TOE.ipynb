{
 "cells": [
  {
   "cell_type": "code",
   "execution_count": 1,
   "id": "3ab083b4-653d-451c-a97f-bba3a9e25f5e",
   "metadata": {},
   "outputs": [],
   "source": [
    "row1=[' ']*3\n",
    "row2=[' ']*3\n",
    "row3=[' ']*3"
   ]
  },
  {
   "cell_type": "code",
   "execution_count": 2,
   "id": "390859c0-fc97-4199-9b5c-50c7cede07bc",
   "metadata": {},
   "outputs": [],
   "source": [
    "def display_board(row1,row2,row3):\n",
    "    Rows=[row1,row2,row3]\n",
    "    for row in Rows:\n",
    "        print('-------------')\n",
    "        for i in range(3):\n",
    "            print('|',row[i],end=' ')\n",
    "        print('|')   \n",
    "    print('-------------')\n",
    "        \n",
    "    "
   ]
  },
  {
   "cell_type": "code",
   "execution_count": 3,
   "id": "50dc8b61-1565-421e-a3bd-00c2f2633dee",
   "metadata": {},
   "outputs": [],
   "source": [
    "def Coin_Choice():\n",
    "    while True:\n",
    "        Coin=(input(\"Choose 'X' or 'O'\")).upper()#if player-1 choose 'X' then by default 'O' goes to Player 2\n",
    "        if Coin in ['X','O']:\n",
    "            return Coin\n",
    "        else:\n",
    "            print(\"Choose Either X or O\")"
   ]
  },
  {
   "cell_type": "code",
   "execution_count": 4,
   "id": "5909d7f6-85ca-4e4e-82ee-1122b354e283",
   "metadata": {},
   "outputs": [],
   "source": [
    "def Select_Position():\n",
    "    while True:\n",
    "        Pos=input(\"Enter the Position within the range of 1 to 9\")\n",
    "        if Pos.isdigit():\n",
    "            if int(Pos) in range(1,10):\n",
    "                return int(Pos)\n",
    "            else:\n",
    "                print(\"Out of range - Enter Position between 1 to 9\")\n",
    "        else:\n",
    "            print(\"Invalid Entry - Enter only Positive integers\")\n",
    "            "
   ]
  },
  {
   "cell_type": "code",
   "execution_count": 5,
   "id": "19115123-6a28-412a-821b-3874eec1e70a",
   "metadata": {},
   "outputs": [],
   "source": [
    "def Replace_Coin_with_Sel_Position(row1,row2,row3,Coin,Pos):\n",
    "    D={}\n",
    "    P=7\n",
    "    for i in range(3):\n",
    "        for j in range(3):\n",
    "            D[P]=(i,j)\n",
    "            P+=1\n",
    "        P-=6\n",
    "    row_num,col_num=D[Pos]\n",
    "    Rows=[row1,row2,row3]\n",
    "    if Rows[row_num][col_num]==' ':\n",
    "        Rows[row_num][col_num]=Coin\n",
    "    else:\n",
    "        print(\"Position already taken\")\n",
    "    return row1,row2,row3\n",
    "            "
   ]
  },
  {
   "cell_type": "code",
   "execution_count": 6,
   "id": "eba0b7d0-4b03-454e-a737-14b03dd1464e",
   "metadata": {},
   "outputs": [],
   "source": [
    "def Check_Winner(row1,row2,row3):\n",
    "    P1_Win_Order=['X','X','X']\n",
    "    P2_Win_Order=['O','O','O']\n",
    "    Rows=[row1,row2,row3]\n",
    "    Win_Patterns=[]\n",
    "    for row in Rows:\n",
    "        Win_Patterns.append(row)\n",
    "    for i in range(3):\n",
    "        Win_Patterns.append([row1[i],row2[i],row3[i]])\n",
    "    Win_Patterns.append([row1[0],row2[1],row3[2]])\n",
    "    Win_Patterns.append([row1[2],row2[1],row3[0]])\n",
    "    New_list=row1+row2+row3\n",
    "\n",
    "    if P1_Win_Order in Win_Patterns:\n",
    "        print(\"Player_1 Won the game and game over\")\n",
    "        return True\n",
    "    elif P2_Win_Order in Win_Patterns:\n",
    "        print(\"Player_2 Won the game and game over\")\n",
    "        return True\n",
    "    elif ' ' not in New_list:\n",
    "        print(\"Game Tie\")\n",
    "        return True\n",
    "    else:\n",
    "        return False  "
   ]
  },
  {
   "cell_type": "code",
   "execution_count": 7,
   "id": "d2e5d563-e3d9-478d-9f94-4596110b4e81",
   "metadata": {},
   "outputs": [],
   "source": [
    "def board_reset():\n",
    "    \"\"\"Clears the Tic Tac Toe board and returns fresh empty rows.\"\"\"\n",
    "    row1 = [' ', ' ', ' ']\n",
    "    row2 = [' ', ' ', ' ']\n",
    "    row3 = [' ', ' ', ' ']\n",
    "    \n",
    "    print(\"Board has been reset!\")\n",
    "    print('-------------')\n",
    "    for row in [row1, row2, row3]:\n",
    "        print('|', row[0], '|', row[1], '|', row[2], '|')\n",
    "        print('-------------')\n",
    "    \n",
    "    return row1, row2, row3"
   ]
  },
  {
   "cell_type": "code",
   "execution_count": 8,
   "id": "f6a27332-65d8-4a4f-88b6-1e9439603818",
   "metadata": {},
   "outputs": [],
   "source": [
    "def game_Choice():\n",
    "    while True:\n",
    "        Choice=(input(\"Keep Playing Y or N\")).upper()\n",
    "        if Choice=='Y':\n",
    "            return True\n",
    "        elif Choice=='N':\n",
    "            print(\"Game Ends\")\n",
    "            return False\n",
    "        else:\n",
    "            print(\"Enter Y or N\")\n",
    "            "
   ]
  },
  {
   "cell_type": "code",
   "execution_count": null,
   "id": "911b2a9a-572f-4f36-a1ea-cac6e920bf5a",
   "metadata": {},
   "outputs": [
    {
     "name": "stdout",
     "output_type": "stream",
     "text": [
      "Board has been reset!\n",
      "-------------\n",
      "|   |   |   |\n",
      "-------------\n",
      "|   |   |   |\n",
      "-------------\n",
      "|   |   |   |\n",
      "-------------\n",
      "Choose Either X or O\n"
     ]
    }
   ],
   "source": [
    "while True:\n",
    "    row1, row2, row3 = board_reset()\n",
    "    game_on = True\n",
    "    Turn = 1\n",
    "    Coin=Coin_Choice()\n",
    "    if Coin=='X':\n",
    "        Player_1_Coin='X'\n",
    "        Player_2_Coin='O'\n",
    "    else:\n",
    "        Player_1_Coin='O'\n",
    "        Player_2_Coin='X'\n",
    "    while game_on:\n",
    "        if Turn%2==0:\n",
    "           print(\"Player_2's Turn\")\n",
    "           Pos=Select_Position()\n",
    "           row1,row2,row3=Replace_Coin_with_Sel_Position(row1,row2,row3,Player_2_Coin,Pos)\n",
    "        else:\n",
    "           print(\"Player_1's Turn\")\n",
    "           Pos=Select_Position()\n",
    "           row1,row2,row3=Replace_Coin_with_Sel_Position(row1,row2,row3,Player_1_Coin,Pos)\n",
    "        \n",
    "        display_board(row1,row2,row3)\n",
    "        result=Check_Winner(row1,row2,row3)\n",
    "        if result:\n",
    "            break\n",
    "        Turn+=1\n",
    "    if not game_Choice():\n",
    "        break"
   ]
  },
  {
   "cell_type": "code",
   "execution_count": null,
   "id": "c142c8d4-f49f-4233-bab8-3c91f79a50b0",
   "metadata": {},
   "outputs": [],
   "source": []
  },
  {
   "cell_type": "markdown",
   "id": "6b5f2662-9696-4730-b5b0-fbe8d7ef4a55",
   "metadata": {},
   "source": []
  },
  {
   "cell_type": "code",
   "execution_count": null,
   "id": "c675bf11-6854-4561-9d02-62fb20c24a00",
   "metadata": {},
   "outputs": [],
   "source": []
  },
  {
   "cell_type": "code",
   "execution_count": null,
   "id": "9d7b5124-eca6-4786-b5c1-e2a8707f735d",
   "metadata": {},
   "outputs": [],
   "source": []
  }
 ],
 "metadata": {
  "kernelspec": {
   "display_name": "base",
   "language": "python",
   "name": "python3"
  },
  "language_info": {
   "codemirror_mode": {
    "name": "ipython",
    "version": 3
   },
   "file_extension": ".py",
   "mimetype": "text/x-python",
   "name": "python",
   "nbconvert_exporter": "python",
   "pygments_lexer": "ipython3",
   "version": "3.11.3"
  }
 },
 "nbformat": 4,
 "nbformat_minor": 5
}
